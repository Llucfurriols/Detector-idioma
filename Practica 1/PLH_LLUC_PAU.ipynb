{
  "cells": [
    {
      "cell_type": "code",
      "execution_count": 2,
      "metadata": {
        "id": "MLlyAtEBLx_y",
        "colab": {
          "base_uri": "https://localhost:8080/"
        },
        "outputId": "ad3abe30-725d-47f0-d1f3-3bdf161bee32"
      },
      "outputs": [
        {
          "output_type": "stream",
          "name": "stdout",
          "text": [
            "Mounted at /content/drive\n"
          ]
        }
      ],
      "source": [
        "from google.colab import drive\n",
        "drive.mount('/content/drive')"
      ]
    },
    {
      "cell_type": "code",
      "execution_count": 3,
      "metadata": {
        "id": "juKob_wFLhgF"
      },
      "outputs": [],
      "source": [
        "import glob\n",
        "\n",
        "train_files = glob.glob('/content/drive/My Drive/PLH/langId/*_trn.txt')\n",
        "test_files = glob.glob('/content/drive/My Drive/PLH/langId/*_tst.txt')"
      ]
    },
    {
      "cell_type": "code",
      "execution_count": 4,
      "metadata": {
        "id": "eMGvW9AXocj8"
      },
      "outputs": [],
      "source": [
        "import re\n",
        "\n",
        "def preprocessar_text(text):\n",
        "    # Eliminar els digits restants en el text\n",
        "    text = re.sub(r'\\d+', '', text)\n",
        "\n",
        "    # Eliminar els caràcters especials\n",
        "    text = re.sub(r'[#$%&*%{}[]+', '', text)\n",
        "\n",
        "    # Convertir tot el text a minúscula\n",
        "    text = text.lower()\n",
        "\n",
        "    # Substituir els espais en blanc continus per un únic espai\n",
        "    text = re.sub(r'\\s+', ' ', text).strip()\n",
        "\n",
        "    # Separar les diferents frases basant-nos en si hi ha un punt seguit d'un espai\n",
        "    frases = text.split('. ')\n",
        "\n",
        "    # Eliminar elements buits que podrien aparèixer per la separació\n",
        "    text = [frase.strip() for frase in frases if frase]\n",
        "\n",
        "    # Concatenar totes les frases amb un espai doble al mig\n",
        "    text = '  '.join(text)\n",
        "\n",
        "    return text"
      ]
    },
    {
      "cell_type": "code",
      "execution_count": 5,
      "metadata": {
        "id": "f5OOee-NLnrB"
      },
      "outputs": [],
      "source": [
        "from nltk import ngrams\n",
        "from collections import Counter\n",
        "\n",
        "def get_trigrams(text):\n",
        "    text = '  ' + text + '  '\n",
        "    trigrams = list(ngrams(text, 3))\n",
        "    return trigrams\n",
        "\n",
        "def remove_infreq_trigrams(trigram_counts, threshold=5):\n",
        "    # Elimina trigrams amb una freqüència menor al llindar\n",
        "    return {trigram: count for trigram, count in trigram_counts.items() if count >= threshold}\n",
        "\n",
        "def lid(count, total, lambda_, B):\n",
        "  # Calcula la probabilitat amb la Llei de Lidstone\n",
        "  return (count+lambda_)/(total + lambda_*B)\n",
        "\n",
        "def comptar_caracters_diferents(texto):\n",
        "  # Compta el nombre de caràcters únics\n",
        "  return len(set(texto))\n",
        "\n",
        "def extract_language(file, train = True):\n",
        "  # Extreu l'idioma del nom del fitxer\n",
        "  if train:\n",
        "    return re.search(r'(\\w+)_trn\\.txt', file).group(1)\n",
        "  return re.search(r'(\\w+)_tst\\.txt', file).group(1)"
      ]
    },
    {
      "cell_type": "code",
      "execution_count": 6,
      "metadata": {
        "id": "-z1GMokcj9ub"
      },
      "outputs": [],
      "source": [
        "def train_val(text, percentatge=0.7):\n",
        "    # Comptar el nombre total d'espais dobles en el text\n",
        "    num_espais_dobles = text.count(\"  \")\n",
        "\n",
        "    # Calcular l'índex on es dividirà el text\n",
        "    index_divisio = int(num_espais_dobles * percentatge)\n",
        "\n",
        "    # Inicialitzar les variables de text amb valors predeterminats\n",
        "    text_1 = text\n",
        "    text_2 = ''\n",
        "\n",
        "    # Inicialitzar l'índex actual i el nombre d'espais dobles trobats\n",
        "    index_actual = 0\n",
        "    espais_dobles_trobats = 0\n",
        "\n",
        "    # Trobar el punt de divisió\n",
        "    for i, char in enumerate(text):\n",
        "        if text[i:i+2] == \"  \":  # Verificar si hi ha un espai doble\n",
        "            espais_dobles_trobats += 1\n",
        "            if espais_dobles_trobats == index_divisio:\n",
        "                # Dividir el text en dues parts en aquest punt si trobem l'índex de divisió\n",
        "                text_1 = text[:i]\n",
        "                text_2 = text[i:]\n",
        "                break\n",
        "\n",
        "    return text_1, text_2\n"
      ]
    },
    {
      "cell_type": "code",
      "execution_count": 7,
      "metadata": {
        "id": "tVcoqI1tLpb1"
      },
      "outputs": [],
      "source": [
        "X_train, y_train, X_test, y_test, X_val, y_val = [], [], [], [], [], []\n",
        "\n",
        "# Processar fitxers d'entrenament\n",
        "for file in train_files:\n",
        "    with open(file, 'r', encoding='utf-8') as f:\n",
        "        text = f.read()\n",
        "        text = preprocessar_text(text)\n",
        "        text_train, text_val = train_val(text) # dividim el text en train/val\n",
        "        X_train.append(text_train)\n",
        "        y_train.append(extract_language(file, train = True))\n",
        "        X_val.append(text_val)\n",
        "        y_val.append(extract_language(file, train = True))\n",
        "\n",
        "# Processar fitxers de prova\n",
        "for file in test_files:\n",
        "    with open(file, 'r', encoding='utf-8') as f:\n",
        "        for line in f:\n",
        "            X_test.append(preprocessar_text(line))\n",
        "            y_test.append(extract_language(file, train = False))\n",
        "\n"
      ]
    },
    {
      "cell_type": "code",
      "execution_count": 8,
      "metadata": {
        "id": "NUaJNtgiLrWj"
      },
      "outputs": [],
      "source": [
        "# Diccionari per comptar els trigrams de cada idioma\n",
        "trigram_counts = {lang: {} for lang in y_train}\n",
        "for text in X_train:\n",
        "    language = y_train[X_train.index(text)]\n",
        "    trigram_counts[language] = get_trigrams(text)\n",
        "    trigram_counts[language] = Counter(trigram_counts[language])\n",
        "\n",
        "    remove_infreq_trigrams(trigram_counts[language])"
      ]
    },
    {
      "cell_type": "code",
      "execution_count": 9,
      "metadata": {
        "id": "2p-Fs3vhxEar"
      },
      "outputs": [],
      "source": [
        "import math\n",
        "from sklearn.metrics import confusion_matrix\n",
        "import matplotlib.pyplot as plt\n",
        "import seaborn as sns\n",
        "import pandas as pd\n",
        "\n",
        "def evaluate(X, y, lambda_, B, conf_matrix=False):\n",
        "    languages = set(y_train)\n",
        "\n",
        "    # Diccionari per emmagatzemar la matriu de confusió\n",
        "    conf_matrix_dict = {lang: {lang_pred: 0 for lang_pred in languages} for lang in languages}\n",
        "\n",
        "    # Inicialitzar comptadors per a les prediccions totals i correcte\n",
        "    total_predictions = 0\n",
        "    correct_predictions = 0\n",
        "\n",
        "    for text, true_lang in zip(X, y):\n",
        "        trigramas_texto = get_trigrams(text)\n",
        "        pred_lang = None\n",
        "        max_prob = float('-inf')\n",
        "\n",
        "        for lang in languages:\n",
        "            prob_lang = 0\n",
        "\n",
        "            # Calcular la probabilitat de l'idioma a partir de la freqüència dels trigrames\n",
        "            for tri in trigramas_texto:\n",
        "                #calculem la probabilitat amb LID\n",
        "                prob_lang += math.log(lid(count=trigram_counts[lang].get(tri, 0), total=len(trigram_counts[lang]), lambda_=lambda_, B=B))\n",
        "\n",
        "            if prob_lang > max_prob:\n",
        "                max_prob = prob_lang\n",
        "                pred_lang = lang\n",
        "\n",
        "        conf_matrix_dict[true_lang][pred_lang] += 1\n",
        "        total_predictions += 1\n",
        "        if true_lang == pred_lang:\n",
        "            correct_predictions += 1\n",
        "\n",
        "    accuracy = correct_predictions / total_predictions\n",
        "\n",
        "    #Fem la matriu de confusió\n",
        "    if conf_matrix:\n",
        "        conf_matrix_df = pd.DataFrame(conf_matrix_dict)\n",
        "        fig, ax = plt.subplots(figsize=(10, 10))\n",
        "        sns.heatmap(conf_matrix_df, annot=True, fmt='d', cmap='Blues', ax=ax)\n",
        "        ax.set_title('Matriu de Confusió')\n",
        "        ax.set_xlabel('Idioma Predit')\n",
        "        ax.set_ylabel('Idioma Real')\n",
        "        plt.show()\n",
        "\n",
        "    return accuracy\n"
      ]
    },
    {
      "cell_type": "code",
      "execution_count": 10,
      "metadata": {
        "id": "q5DVu0Pc-1zo"
      },
      "outputs": [],
      "source": [
        "# Calcula la mitjana de trigrames únics entre els conjunts d'entrenament i prova\n",
        "def mitjana_trigrames():\n",
        "  total = 0\n",
        "  for i in range(len(train_files)):\n",
        "      with open(train_files[i], 'r', encoding='utf-8') as f:\n",
        "          text = f.read()\n",
        "          text = preprocessar_text(text)\n",
        "          trigrams = set(get_trigrams(text))\n",
        "\n",
        "      with open(test_files[i], 'r', encoding='utf-8') as f:\n",
        "          text2 = f.read()\n",
        "          text2 = preprocessar_text(text2)\n",
        "          trigrams2 = set(get_trigrams(text2))\n",
        "\n",
        "      # Unir els trigrams de train i test\n",
        "      trigrams.update(trigrams2)\n",
        "      total += len(trigrams)\n",
        "\n",
        "  return total / len(train_files)\n"
      ]
    },
    {
      "cell_type": "code",
      "execution_count": 11,
      "metadata": {
        "id": "4UJ3-p6EH0bd"
      },
      "outputs": [],
      "source": [
        "from collections import Counter\n",
        "\n",
        "# Elimina caràcters infreqüents del text\n",
        "def eliminar_caracters_poc_comuns(text):\n",
        "\n",
        "    llindar = len(text)/1000   #0,1% d'aparicions mínim\n",
        "\n",
        "    comptador_caracters = Counter(text)\n",
        "\n",
        "    # Seleccionem només aquells caràcters que superen el llindar d'aparició\n",
        "    caracters_comuns = {caracter for caracter, comptador in comptador_caracters.items() if comptador >= llindar}\n",
        "\n",
        "    text_filtrat = ''.join(caracter for caracter in text if caracter in caracters_comuns)\n",
        "\n",
        "    caracters_diferents = comptar_caracters_diferents(text_filtrat)\n",
        "    return caracters_diferents\n"
      ]
    },
    {
      "cell_type": "code",
      "execution_count": 12,
      "metadata": {
        "colab": {
          "base_uri": "https://localhost:8080/"
        },
        "id": "mCXEHSZJNf_J",
        "outputId": "32d2e7f0-157a-44b6-b7f6-1f71d916da9e"
      },
      "outputs": [
        {
          "output_type": "stream",
          "name": "stdout",
          "text": [
            "30762.37037037037\n"
          ]
        }
      ],
      "source": [
        "total = 0\n",
        "for text in X_train:\n",
        "  total  += eliminar_caracters_poc_comuns(text)\n",
        "\n",
        "mitjana_caracters = total/len(X_train)\n",
        "mitjana_caracters  = (mitjana_caracters*mitjana_caracters*mitjana_caracters) #elevar a 3\n",
        "print(mitjana_caracters)\n"
      ]
    },
    {
      "cell_type": "code",
      "execution_count": 13,
      "metadata": {
        "id": "ASDdss0JDg8A"
      },
      "outputs": [],
      "source": [
        "mitjana = mitjana_trigrames()\n",
        "mitjana = mitjana"
      ]
    },
    {
      "cell_type": "markdown",
      "source": [
        "**ATENCIÓ!!!**"
      ],
      "metadata": {
        "id": "jSu2JOeIWJ30"
      }
    },
    {
      "cell_type": "markdown",
      "source": [
        "La següent cel·la tarda bastant ja que evalua cada combinació d'hiperparàmetres. Si no voleu executar-la podeu descomentar la línia d'abaix:   \n",
        "*best_params{'lambda_': 0.1,  'B': 19974.8333333}*"
      ],
      "metadata": {
        "id": "qPj4Pc5SWAb9"
      }
    },
    {
      "cell_type": "code",
      "source": [
        "#best_params={'lambda_': 0.1, 'B': 19974.8333333}"
      ],
      "metadata": {
        "id": "RL6RqBy7XAHS"
      },
      "execution_count": 32,
      "outputs": []
    },
    {
      "cell_type": "code",
      "execution_count": 15,
      "metadata": {
        "colab": {
          "base_uri": "https://localhost:8080/"
        },
        "id": "mdq9jXMxwT2q",
        "outputId": "767c1f5b-8fe2-4fb9-a60a-c19ee5373a67"
      },
      "outputs": [
        {
          "output_type": "stream",
          "name": "stdout",
          "text": [
            "Millors parametres: {'lambda_': 0.1, 'B': 19974.833333333332}\n"
          ]
        }
      ],
      "source": [
        "valor_mig = (mitjana+mitjana_caracters)/2\n",
        "param_grid = {\n",
        "    'lambda_': [0.1, 0.5, 1.0],\n",
        "    'B': [mitjana, valor_mig, mitjana_caracters], #Provem les 3 B que hem calculat abans\n",
        "}\n",
        "\n",
        "best_accuracy = 0\n",
        "best_params = None\n",
        "\n",
        "for lambda_ in param_grid['lambda_']:\n",
        "    for B in param_grid['B']:\n",
        "        accuracy = evaluate(X_val, y_val, lambda_, B) #probem els parametres amb les dades de validacio\n",
        "        if accuracy > best_accuracy:\n",
        "            best_accuracy = accuracy\n",
        "            best_params = {'lambda_': lambda_, 'B': B}\n",
        "\n",
        "print(\"Millors parametres:\",best_params)"
      ]
    },
    {
      "cell_type": "code",
      "execution_count": 33,
      "metadata": {
        "colab": {
          "base_uri": "https://localhost:8080/",
          "height": 889
        },
        "id": "PImjHtG5J13V",
        "outputId": "e9ac4952-b4e6-4754-aca9-6a3fe1cd265e"
      },
      "outputs": [
        {
          "output_type": "display_data",
          "data": {
            "text/plain": [
              "<Figure size 1000x1000 with 2 Axes>"
            ],
            "image/png": "[encoded data removed]"
          },
          "metadata": {}
        },
        {
          "output_type": "execute_result",
          "data": {
            "text/plain": [
              "0.9965653500508528"
            ]
          },
          "metadata": {},
          "execution_count": 33
        }
      ],
      "source": [
        "evaluate(X_test, y_test, best_params['lambda_'], best_params['B'], conf_matrix=True)"
      ]
    },
    {
      "cell_type": "markdown",
      "metadata": {
        "id": "hNr50ODFJ3kH"
      },
      "source": [
        "------------------------------------------------------------------------------------------------------------------------------------------------------------------------------------------------------------------------------------------------------------------------------------------------------------------------------------------------------------------------------------------------------------------------------------------------------------------------------------"
      ]
    },
    {
      "cell_type": "markdown",
      "source": [
        "# **PLAYTIME**\n",
        "### En aquesta cel·la de codi tu mateix pots escriure el text que vulguis en l'idioma que vulguis i et retornarà en quin idioma està escrit el text"
      ],
      "metadata": {
        "id": "GYjY__laNJth"
      }
    },
    {
      "cell_type": "code",
      "execution_count": 31,
      "metadata": {
        "colab": {
          "base_uri": "https://localhost:8080/"
        },
        "id": "WUu42nqlSnrZ",
        "outputId": "63afa7a0-ee31-4350-f503-bb4a406b13f2"
      },
      "outputs": [
        {
          "output_type": "stream",
          "name": "stdout",
          "text": [
            "El idioma del texto que has introducido es: neerlandés\n"
          ]
        }
      ],
      "source": [
        "import math\n",
        "\n",
        "texto = \"Mijn naam is Luke\" #CANVIAR EL TEXT PER PROVAR EL MODEL\n",
        "\n",
        "\n",
        "\n",
        "\n",
        "trigrama = get_trigrams(texto)\n",
        "\n",
        "max_prob = float('-inf')\n",
        "language_max_prob = None\n",
        "\n",
        "for lang in y_train:\n",
        "    prob_lang = 0  #Probabilitat del llenguatge actual es 0\n",
        "    for tri in trigrama:\n",
        "        prob_lang += math.log(lid(count=trigram_counts[lang].get(tri, 0), total=len(trigram_counts[lang]), lambda_=best_params['lambda_'], B=best_params['B']))\n",
        "\n",
        "\n",
        "    # Si la probabilitat actual es més gran que la màxima registrada, actualitza els valors\n",
        "    if prob_lang > max_prob:\n",
        "        max_prob = prob_lang\n",
        "        language_max_prob = lang\n",
        "\n",
        "idiomas = {\n",
        "    'spa': 'español',\n",
        "    'ita': 'italiano',\n",
        "    'fra': 'francés',\n",
        "    'eng': 'inglés',\n",
        "    'nld': 'neerlandés',\n",
        "    'deu': 'alemán'\n",
        "}\n",
        "print(f\"El idioma del texto que has introducido es: {idiomas[language_max_prob]}\")"
      ]
    },
    {
      "cell_type": "code",
      "execution_count": null,
      "metadata": {
        "colab": {
          "background_save": true
        },
        "id": "Xv-x3NlZlMji"
      },
      "outputs": [],
      "source": []
    }
  ],
  "metadata": {
    "colab": {
      "provenance": []
    },
    "kernelspec": {
      "display_name": "Python 3",
      "name": "python3"
    },
    "language_info": {
      "name": "python"
    }
  },
  "nbformat": 4,
  "nbformat_minor": 0
}